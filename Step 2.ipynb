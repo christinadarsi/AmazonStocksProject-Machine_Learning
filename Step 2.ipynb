{
 "cells": [
  {
   "cell_type": "markdown",
   "id": "4a37cf9c",
   "metadata": {},
   "source": [
    "# Step 2: Data Preparation\n",
    "## A. Data Quality Check"
   ]
  },
  {
   "cell_type": "code",
   "execution_count": 1,
   "id": "b302b0bb",
   "metadata": {},
   "outputs": [
    {
     "name": "stdout",
     "output_type": "stream",
     "text": [
      "                   timestamp    close     high      low  trade_count     open  \\\n",
      "0  2023-07-11 13:30:00+00:00  127.695  128.015  127.580         88.0  127.715   \n",
      "1  2023-07-11 13:31:00+00:00  127.630  127.630  127.440         54.0  127.600   \n",
      "2  2023-07-11 13:32:00+00:00  127.595  127.720  127.485         74.0  127.650   \n",
      "3  2023-07-11 13:33:00+00:00  127.700  127.720  127.570         70.0  127.620   \n",
      "4  2023-07-11 13:34:00+00:00  128.080  128.150  127.700         36.0  127.700   \n",
      "\n",
      "    volume        vwap  SMA_10     SMA_2  ...    Net_Income  Gross_Profit  \\\n",
      "0  10325.0  127.690113     NaN       NaN  ...  3.042500e+10  9.380500e+10   \n",
      "1   7097.0  127.566864     NaN  127.6625  ...  3.042500e+10  9.380500e+10   \n",
      "2   8645.0  127.605890     NaN  127.6125  ...  3.042500e+10  9.380500e+10   \n",
      "3  15036.0  127.623712     NaN  127.6475  ...  3.042500e+10  9.380500e+10   \n",
      "4   3903.0  128.023031     NaN  127.8900  ...  3.042500e+10  9.380500e+10   \n",
      "\n",
      "     Total_Debt  Operating_Cash_Flow     AAPL     MSFT    GOOGL     META  \\\n",
      "0  3.259790e+11         8.494600e+10  188.875  330.470  115.620  295.280   \n",
      "1  3.259790e+11         8.494600e+10  188.830  330.120  115.650  295.050   \n",
      "2  3.259790e+11         8.494600e+10  188.530  329.520  115.855  295.550   \n",
      "3  3.259790e+11         8.494600e+10  188.410  329.625  115.915  295.905   \n",
      "4  3.259790e+11         8.494600e+10  188.520  329.690  116.130  295.850   \n",
      "\n",
      "      WMT    BABA  \n",
      "0  155.05  91.000  \n",
      "1  154.98  91.210  \n",
      "2  155.07  91.520  \n",
      "3  155.23  91.895  \n",
      "4  155.46  92.180  \n",
      "\n",
      "[5 rows x 219 columns]\n"
     ]
    }
   ],
   "source": [
    "import pandas as pd\n",
    "\n",
    "# Load the dataset\n",
    "df = pd.read_csv('/Users/christinadarsi/Downloads/AMZN_minute_data_with_financials_and_closes.csv')\n",
    "\n",
    "# Display the first few rows of the dataframe\n",
    "print(df.head())\n"
   ]
  },
  {
   "cell_type": "markdown",
   "id": "35f28d63",
   "metadata": {},
   "source": [
    "## 1. list of all the variables along with the following information for each variable of the data\n",
    "### a. Description/information of the variable"
   ]
  },
  {
   "cell_type": "code",
   "execution_count": 2,
   "id": "3da109d8",
   "metadata": {},
   "outputs": [
    {
     "name": "stdout",
     "output_type": "stream",
     "text": [
      "                        timestamp         close          high           low  \\\n",
      "count                      101871  98687.000000  98687.000000  98687.000000   \n",
      "unique                      98506           NaN           NaN           NaN   \n",
      "top     2023-10-09 16:23:00+00:00           NaN           NaN           NaN   \n",
      "freq                            2           NaN           NaN           NaN   \n",
      "mean                          NaN    157.399053    157.444401    157.353746   \n",
      "std                           NaN     22.204203     22.203435     22.204723   \n",
      "min                           NaN    118.430000    118.480000    118.390000   \n",
      "25%                           NaN    137.090000    137.130000    137.040000   \n",
      "50%                           NaN    153.340000    153.370000    153.310000   \n",
      "75%                           NaN    179.200000    179.240000    179.155000   \n",
      "max                           NaN    200.990000    201.160000    200.865000   \n",
      "\n",
      "         trade_count          open         volume          vwap        SMA_10  \\\n",
      "count   98687.000000  98687.000000   98687.000000  98687.000000  98678.000000   \n",
      "unique           NaN           NaN            NaN           NaN           NaN   \n",
      "top              NaN           NaN            NaN           NaN           NaN   \n",
      "freq             NaN           NaN            NaN           NaN           NaN   \n",
      "mean       22.779150    157.399308    2056.988418    157.399287    157.398477   \n",
      "std        25.079581     22.204252    3216.603268     22.203988     22.201731   \n",
      "min         1.000000    118.445000     100.000000    118.468120    118.577000   \n",
      "25%        10.000000    137.090000     609.000000    137.079062    137.098875   \n",
      "50%        16.000000    153.340000    1180.000000    153.344081    153.345500   \n",
      "75%        27.000000    179.200000    2307.000000    179.192423    179.200875   \n",
      "max      1226.000000    201.160000  162357.000000    200.936498    200.567000   \n",
      "\n",
      "               SMA_2  ...    Net_Income  Gross_Profit    Total_Debt  \\\n",
      "count   98686.000000  ...  9.868700e+04  9.868700e+04  9.868700e+04   \n",
      "unique           NaN  ...           NaN           NaN           NaN   \n",
      "top              NaN  ...           NaN           NaN           NaN   \n",
      "freq             NaN  ...           NaN           NaN           NaN   \n",
      "mean      157.398988  ...  3.042500e+10  9.380500e+10  3.259790e+11   \n",
      "std        22.203885  ...  0.000000e+00  0.000000e+00  0.000000e+00   \n",
      "min       118.485000  ...  3.042500e+10  9.380500e+10  3.259790e+11   \n",
      "25%       137.090000  ...  3.042500e+10  9.380500e+10  3.259790e+11   \n",
      "50%       153.340000  ...  3.042500e+10  9.380500e+10  3.259790e+11   \n",
      "75%       179.195000  ...  3.042500e+10  9.380500e+10  3.259790e+11   \n",
      "max       200.797500  ...  3.042500e+10  9.380500e+10  3.259790e+11   \n",
      "\n",
      "        Operating_Cash_Flow          AAPL          MSFT         GOOGL  \\\n",
      "count          9.868700e+04  99703.000000  88803.000000  96061.000000   \n",
      "unique                  NaN           NaN           NaN           NaN   \n",
      "top                     NaN           NaN           NaN           NaN   \n",
      "freq                    NaN           NaN           NaN           NaN   \n",
      "mean           8.494600e+10    184.891344    379.615718    144.868736   \n",
      "std            0.000000e+00     12.341309     41.258472     17.036898   \n",
      "min            8.494600e+10    164.125000    309.710000    115.620000   \n",
      "25%            8.494600e+10    175.390000    335.380000    132.360000   \n",
      "50%            8.494600e+10    183.250000    377.090000    138.725000   \n",
      "75%            8.494600e+10    191.930000    413.020000    154.085000   \n",
      "max            8.494600e+10    229.380000    468.350000    191.150000   \n",
      "\n",
      "                META           WMT          BABA  \n",
      "count   86790.000000  78672.000000  83706.000000  \n",
      "unique           NaN           NaN           NaN  \n",
      "top              NaN           NaN           NaN  \n",
      "freq             NaN           NaN           NaN  \n",
      "mean      393.465748    119.459235     79.892220  \n",
      "std        85.137175     48.652642      8.101831  \n",
      "min       274.680000     58.200000     66.895000  \n",
      "25%       312.895000     61.250000     73.420000  \n",
      "50%       357.630000    154.710000     77.380000  \n",
      "75%       484.123750    161.250000     85.655000  \n",
      "max       540.405000    180.910000    102.480000  \n",
      "\n",
      "[11 rows x 219 columns]\n"
     ]
    }
   ],
   "source": [
    "\n",
    "print(df.describe(include='all'))\n",
    "\n"
   ]
  },
  {
   "cell_type": "markdown",
   "id": "ea3d522b",
   "metadata": {},
   "source": [
    "### b. Data type of the variable"
   ]
  },
  {
   "cell_type": "code",
   "execution_count": 3,
   "id": "a7cdd852",
   "metadata": {},
   "outputs": [
    {
     "name": "stdout",
     "output_type": "stream",
     "text": [
      "\n",
      "Summary of variables:\n",
      "            Variable Name Data Type\n",
      "timestamp       timestamp    object\n",
      "close               close   float64\n",
      "high                 high   float64\n",
      "low                   low   float64\n",
      "trade_count   trade_count   float64\n",
      "...                   ...       ...\n",
      "MSFT                 MSFT   float64\n",
      "GOOGL               GOOGL   float64\n",
      "META                 META   float64\n",
      "WMT                   WMT   float64\n",
      "BABA                 BABA   float64\n",
      "\n",
      "[219 rows x 2 columns]\n"
     ]
    }
   ],
   "source": [
    "# Creating a summary of each variable with its description and data type\n",
    "variables_info = pd.DataFrame({\n",
    "    'Variable Name': df.columns,\n",
    "    'Data Type': df.dtypes,\n",
    "})\n",
    "\n",
    "print(\"\\nSummary of variables:\")\n",
    "print(variables_info)"
   ]
  },
  {
   "cell_type": "markdown",
   "id": "dbf764cc",
   "metadata": {},
   "source": [
    "### c. Sample values from the variable (at least 5 for each variable)"
   ]
  },
  {
   "cell_type": "code",
   "execution_count": 4,
   "id": "dc988f1f",
   "metadata": {},
   "outputs": [
    {
     "name": "stdout",
     "output_type": "stream",
     "text": [
      "First few rows of the dataset:\n",
      "                   timestamp    close     high      low  trade_count     open  \\\n",
      "0  2023-07-11 13:30:00+00:00  127.695  128.015  127.580         88.0  127.715   \n",
      "1  2023-07-11 13:31:00+00:00  127.630  127.630  127.440         54.0  127.600   \n",
      "2  2023-07-11 13:32:00+00:00  127.595  127.720  127.485         74.0  127.650   \n",
      "3  2023-07-11 13:33:00+00:00  127.700  127.720  127.570         70.0  127.620   \n",
      "4  2023-07-11 13:34:00+00:00  128.080  128.150  127.700         36.0  127.700   \n",
      "\n",
      "    volume        vwap  SMA_10     SMA_2  ...    Net_Income  Gross_Profit  \\\n",
      "0  10325.0  127.690113     NaN       NaN  ...  3.042500e+10  9.380500e+10   \n",
      "1   7097.0  127.566864     NaN  127.6625  ...  3.042500e+10  9.380500e+10   \n",
      "2   8645.0  127.605890     NaN  127.6125  ...  3.042500e+10  9.380500e+10   \n",
      "3  15036.0  127.623712     NaN  127.6475  ...  3.042500e+10  9.380500e+10   \n",
      "4   3903.0  128.023031     NaN  127.8900  ...  3.042500e+10  9.380500e+10   \n",
      "\n",
      "     Total_Debt  Operating_Cash_Flow     AAPL     MSFT    GOOGL     META  \\\n",
      "0  3.259790e+11         8.494600e+10  188.875  330.470  115.620  295.280   \n",
      "1  3.259790e+11         8.494600e+10  188.830  330.120  115.650  295.050   \n",
      "2  3.259790e+11         8.494600e+10  188.530  329.520  115.855  295.550   \n",
      "3  3.259790e+11         8.494600e+10  188.410  329.625  115.915  295.905   \n",
      "4  3.259790e+11         8.494600e+10  188.520  329.690  116.130  295.850   \n",
      "\n",
      "      WMT    BABA  \n",
      "0  155.05  91.000  \n",
      "1  154.98  91.210  \n",
      "2  155.07  91.520  \n",
      "3  155.23  91.895  \n",
      "4  155.46  92.180  \n",
      "\n",
      "[5 rows x 219 columns]\n"
     ]
    }
   ],
   "source": [
    "print(\"First few rows of the dataset:\")\n",
    "print(df.head())"
   ]
  },
  {
   "cell_type": "markdown",
   "id": "3669d035",
   "metadata": {},
   "source": [
    "## 2. For Numeric variables:\n",
    "### a. Number of observations in the variable"
   ]
  },
  {
   "cell_type": "code",
   "execution_count": 5,
   "id": "3f7f7986",
   "metadata": {},
   "outputs": [
    {
     "name": "stdout",
     "output_type": "stream",
     "text": [
      "\n",
      "Numeric variables information:\n",
      "            Variable Name Data Type  Number of Observations\n",
      "close               close   float64                   98687\n",
      "high                 high   float64                   98687\n",
      "low                   low   float64                   98687\n",
      "trade_count   trade_count   float64                   98687\n",
      "open                 open   float64                   98687\n",
      "...                   ...       ...                     ...\n",
      "MSFT                 MSFT   float64                   88803\n",
      "GOOGL               GOOGL   float64                   96061\n",
      "META                 META   float64                   86790\n",
      "WMT                   WMT   float64                   78672\n",
      "BABA                 BABA   float64                   83706\n",
      "\n",
      "[218 rows x 3 columns]\n"
     ]
    },
    {
     "name": "stderr",
     "output_type": "stream",
     "text": [
      "/var/folders/jf/1f_l1yn95h3dy9djz69k1bx80000gn/T/ipykernel_39374/1156365537.py:3: SettingWithCopyWarning: \n",
      "A value is trying to be set on a copy of a slice from a DataFrame.\n",
      "Try using .loc[row_indexer,col_indexer] = value instead\n",
      "\n",
      "See the caveats in the documentation: https://pandas.pydata.org/pandas-docs/stable/user_guide/indexing.html#returning-a-view-versus-a-copy\n",
      "  numeric_variables_info['Number of Observations'] = df[numeric_variables_info['Variable Name']].count()\n"
     ]
    }
   ],
   "source": [
    "# Filter numeric variables and provide the number of observations\n",
    "numeric_variables_info = variables_info[variables_info['Data Type'].apply(lambda x: pd.api.types.is_numeric_dtype(x))]\n",
    "numeric_variables_info['Number of Observations'] = df[numeric_variables_info['Variable Name']].count()\n",
    "\n",
    "print(\"\\nNumeric variables information:\")\n",
    "print(numeric_variables_info)"
   ]
  },
  {
   "cell_type": "markdown",
   "id": "0e319a98",
   "metadata": {},
   "source": [
    "### b. Range of the variable\n"
   ]
  },
  {
   "cell_type": "code",
   "execution_count": 6,
   "id": "cb398929",
   "metadata": {},
   "outputs": [
    {
     "name": "stdout",
     "output_type": "stream",
     "text": [
      "\n",
      "Numeric variables information:\n",
      "            Variable Name Data Type  Number of Observations     Range\n",
      "close               close   float64                   98687    82.560\n",
      "high                 high   float64                   98687    82.680\n",
      "low                   low   float64                   98687    82.475\n",
      "trade_count   trade_count   float64                   98687  1225.000\n",
      "open                 open   float64                   98687    82.715\n",
      "...                   ...       ...                     ...       ...\n",
      "MSFT                 MSFT   float64                   88803   158.640\n",
      "GOOGL               GOOGL   float64                   96061    75.530\n",
      "META                 META   float64                   86790   265.725\n",
      "WMT                   WMT   float64                   78672   122.710\n",
      "BABA                 BABA   float64                   83706    35.585\n",
      "\n",
      "[218 rows x 4 columns]\n"
     ]
    },
    {
     "name": "stderr",
     "output_type": "stream",
     "text": [
      "/var/folders/jf/1f_l1yn95h3dy9djz69k1bx80000gn/T/ipykernel_39374/4042041574.py:1: SettingWithCopyWarning: \n",
      "A value is trying to be set on a copy of a slice from a DataFrame.\n",
      "Try using .loc[row_indexer,col_indexer] = value instead\n",
      "\n",
      "See the caveats in the documentation: https://pandas.pydata.org/pandas-docs/stable/user_guide/indexing.html#returning-a-view-versus-a-copy\n",
      "  numeric_variables_info['Range'] = df[numeric_variables_info['Variable Name']].apply(lambda x: x.max() - x.min())\n"
     ]
    }
   ],
   "source": [
    "numeric_variables_info['Range'] = df[numeric_variables_info['Variable Name']].apply(lambda x: x.max() - x.min())\n",
    "\n",
    "print(\"\\nNumeric variables information:\")\n",
    "print(numeric_variables_info)"
   ]
  },
  {
   "cell_type": "markdown",
   "id": "78c23428",
   "metadata": {},
   "source": [
    "### c. Min and max of the variable\n"
   ]
  },
  {
   "cell_type": "code",
   "execution_count": 7,
   "id": "c4be0be2",
   "metadata": {},
   "outputs": [
    {
     "name": "stdout",
     "output_type": "stream",
     "text": [
      "\n",
      "Numeric variables information:\n",
      "            Variable Name Data Type  Number of Observations     Range  \\\n",
      "close               close   float64                   98687    82.560   \n",
      "high                 high   float64                   98687    82.680   \n",
      "low                   low   float64                   98687    82.475   \n",
      "trade_count   trade_count   float64                   98687  1225.000   \n",
      "open                 open   float64                   98687    82.715   \n",
      "...                   ...       ...                     ...       ...   \n",
      "MSFT                 MSFT   float64                   88803   158.640   \n",
      "GOOGL               GOOGL   float64                   96061    75.530   \n",
      "META                 META   float64                   86790   265.725   \n",
      "WMT                   WMT   float64                   78672   122.710   \n",
      "BABA                 BABA   float64                   83706    35.585   \n",
      "\n",
      "                 Min       Max  \n",
      "close        118.430   200.990  \n",
      "high         118.480   201.160  \n",
      "low          118.390   200.865  \n",
      "trade_count    1.000  1226.000  \n",
      "open         118.445   201.160  \n",
      "...              ...       ...  \n",
      "MSFT         309.710   468.350  \n",
      "GOOGL        115.620   191.150  \n",
      "META         274.680   540.405  \n",
      "WMT           58.200   180.910  \n",
      "BABA          66.895   102.480  \n",
      "\n",
      "[218 rows x 6 columns]\n"
     ]
    },
    {
     "name": "stderr",
     "output_type": "stream",
     "text": [
      "/var/folders/jf/1f_l1yn95h3dy9djz69k1bx80000gn/T/ipykernel_39374/576046052.py:1: SettingWithCopyWarning: \n",
      "A value is trying to be set on a copy of a slice from a DataFrame.\n",
      "Try using .loc[row_indexer,col_indexer] = value instead\n",
      "\n",
      "See the caveats in the documentation: https://pandas.pydata.org/pandas-docs/stable/user_guide/indexing.html#returning-a-view-versus-a-copy\n",
      "  numeric_variables_info['Min'] = df[numeric_variables_info['Variable Name']].min()\n",
      "/var/folders/jf/1f_l1yn95h3dy9djz69k1bx80000gn/T/ipykernel_39374/576046052.py:2: SettingWithCopyWarning: \n",
      "A value is trying to be set on a copy of a slice from a DataFrame.\n",
      "Try using .loc[row_indexer,col_indexer] = value instead\n",
      "\n",
      "See the caveats in the documentation: https://pandas.pydata.org/pandas-docs/stable/user_guide/indexing.html#returning-a-view-versus-a-copy\n",
      "  numeric_variables_info['Max'] = df[numeric_variables_info['Variable Name']].max()\n"
     ]
    }
   ],
   "source": [
    "numeric_variables_info['Min'] = df[numeric_variables_info['Variable Name']].min()\n",
    "numeric_variables_info['Max'] = df[numeric_variables_info['Variable Name']].max()\n",
    "print(\"\\nNumeric variables information:\")\n",
    "print(numeric_variables_info)"
   ]
  },
  {
   "cell_type": "markdown",
   "id": "bb9261d4",
   "metadata": {},
   "source": [
    "### d. Mean, standard deviation/variance of the variable"
   ]
  },
  {
   "cell_type": "code",
   "execution_count": 8,
   "id": "cfd66d82",
   "metadata": {},
   "outputs": [
    {
     "name": "stdout",
     "output_type": "stream",
     "text": [
      "\n",
      "Numeric variables information:\n",
      "            Variable Name Data Type  Number of Observations     Range  \\\n",
      "close               close   float64                   98687    82.560   \n",
      "high                 high   float64                   98687    82.680   \n",
      "low                   low   float64                   98687    82.475   \n",
      "trade_count   trade_count   float64                   98687  1225.000   \n",
      "open                 open   float64                   98687    82.715   \n",
      "...                   ...       ...                     ...       ...   \n",
      "MSFT                 MSFT   float64                   88803   158.640   \n",
      "GOOGL               GOOGL   float64                   96061    75.530   \n",
      "META                 META   float64                   86790   265.725   \n",
      "WMT                   WMT   float64                   78672   122.710   \n",
      "BABA                 BABA   float64                   83706    35.585   \n",
      "\n",
      "                 Min       Max        Mean  Standard Deviation     Variance  \n",
      "close        118.430   200.990  157.399053           22.204203   493.026643  \n",
      "high         118.480   201.160  157.444401           22.203435   492.992521  \n",
      "low          118.390   200.865  157.353746           22.204723   493.049716  \n",
      "trade_count    1.000  1226.000   22.779150           25.079581   628.985404  \n",
      "open         118.445   201.160  157.399308           22.204252   493.028809  \n",
      "...              ...       ...         ...                 ...          ...  \n",
      "MSFT         309.710   468.350  379.615718           41.258472  1702.261539  \n",
      "GOOGL        115.620   191.150  144.868736           17.036898   290.255895  \n",
      "META         274.680   540.405  393.465748           85.137175  7248.338517  \n",
      "WMT           58.200   180.910  119.459235           48.652642  2367.079592  \n",
      "BABA          66.895   102.480   79.892220            8.101831    65.639660  \n",
      "\n",
      "[218 rows x 9 columns]\n"
     ]
    },
    {
     "name": "stderr",
     "output_type": "stream",
     "text": [
      "/var/folders/jf/1f_l1yn95h3dy9djz69k1bx80000gn/T/ipykernel_39374/3097643136.py:1: SettingWithCopyWarning: \n",
      "A value is trying to be set on a copy of a slice from a DataFrame.\n",
      "Try using .loc[row_indexer,col_indexer] = value instead\n",
      "\n",
      "See the caveats in the documentation: https://pandas.pydata.org/pandas-docs/stable/user_guide/indexing.html#returning-a-view-versus-a-copy\n",
      "  numeric_variables_info['Mean'] = df[numeric_variables_info['Variable Name']].mean()\n",
      "/var/folders/jf/1f_l1yn95h3dy9djz69k1bx80000gn/T/ipykernel_39374/3097643136.py:2: SettingWithCopyWarning: \n",
      "A value is trying to be set on a copy of a slice from a DataFrame.\n",
      "Try using .loc[row_indexer,col_indexer] = value instead\n",
      "\n",
      "See the caveats in the documentation: https://pandas.pydata.org/pandas-docs/stable/user_guide/indexing.html#returning-a-view-versus-a-copy\n",
      "  numeric_variables_info['Standard Deviation'] = df[numeric_variables_info['Variable Name']].std()\n",
      "/var/folders/jf/1f_l1yn95h3dy9djz69k1bx80000gn/T/ipykernel_39374/3097643136.py:3: SettingWithCopyWarning: \n",
      "A value is trying to be set on a copy of a slice from a DataFrame.\n",
      "Try using .loc[row_indexer,col_indexer] = value instead\n",
      "\n",
      "See the caveats in the documentation: https://pandas.pydata.org/pandas-docs/stable/user_guide/indexing.html#returning-a-view-versus-a-copy\n",
      "  numeric_variables_info['Variance'] = df[numeric_variables_info['Variable Name']].var()\n"
     ]
    }
   ],
   "source": [
    "numeric_variables_info['Mean'] = df[numeric_variables_info['Variable Name']].mean()\n",
    "numeric_variables_info['Standard Deviation'] = df[numeric_variables_info['Variable Name']].std()\n",
    "numeric_variables_info['Variance'] = df[numeric_variables_info['Variable Name']].var()\n",
    "\n",
    "print(\"\\nNumeric variables information:\")\n",
    "print(numeric_variables_info)\n"
   ]
  },
  {
   "cell_type": "markdown",
   "id": "0b5f21f5",
   "metadata": {},
   "source": [
    "### e. Mode, median, quartiles (25%, 50%, 75%, 95%) "
   ]
  },
  {
   "cell_type": "code",
   "execution_count": 9,
   "id": "cfe5d490",
   "metadata": {},
   "outputs": [
    {
     "name": "stderr",
     "output_type": "stream",
     "text": [
      "/var/folders/jf/1f_l1yn95h3dy9djz69k1bx80000gn/T/ipykernel_39374/826439052.py:2: SettingWithCopyWarning: \n",
      "A value is trying to be set on a copy of a slice from a DataFrame.\n",
      "Try using .loc[row_indexer,col_indexer] = value instead\n",
      "\n",
      "See the caveats in the documentation: https://pandas.pydata.org/pandas-docs/stable/user_guide/indexing.html#returning-a-view-versus-a-copy\n",
      "  numeric_variables_info['Mode'] = df[numeric_variables_info['Variable Name']].mode().iloc[0]\n",
      "/var/folders/jf/1f_l1yn95h3dy9djz69k1bx80000gn/T/ipykernel_39374/826439052.py:3: SettingWithCopyWarning: \n",
      "A value is trying to be set on a copy of a slice from a DataFrame.\n",
      "Try using .loc[row_indexer,col_indexer] = value instead\n",
      "\n",
      "See the caveats in the documentation: https://pandas.pydata.org/pandas-docs/stable/user_guide/indexing.html#returning-a-view-versus-a-copy\n",
      "  numeric_variables_info['Median'] = df[numeric_variables_info['Variable Name']].median()\n",
      "/var/folders/jf/1f_l1yn95h3dy9djz69k1bx80000gn/T/ipykernel_39374/826439052.py:4: SettingWithCopyWarning: \n",
      "A value is trying to be set on a copy of a slice from a DataFrame.\n",
      "Try using .loc[row_indexer,col_indexer] = value instead\n",
      "\n",
      "See the caveats in the documentation: https://pandas.pydata.org/pandas-docs/stable/user_guide/indexing.html#returning-a-view-versus-a-copy\n",
      "  numeric_variables_info['25th Percentile'] = df[numeric_variables_info['Variable Name']].quantile(0.25)\n",
      "/var/folders/jf/1f_l1yn95h3dy9djz69k1bx80000gn/T/ipykernel_39374/826439052.py:5: SettingWithCopyWarning: \n",
      "A value is trying to be set on a copy of a slice from a DataFrame.\n",
      "Try using .loc[row_indexer,col_indexer] = value instead\n",
      "\n",
      "See the caveats in the documentation: https://pandas.pydata.org/pandas-docs/stable/user_guide/indexing.html#returning-a-view-versus-a-copy\n",
      "  numeric_variables_info['50th Percentile (Median)'] = df[numeric_variables_info['Variable Name']].quantile(0.50)\n",
      "/var/folders/jf/1f_l1yn95h3dy9djz69k1bx80000gn/T/ipykernel_39374/826439052.py:6: SettingWithCopyWarning: \n",
      "A value is trying to be set on a copy of a slice from a DataFrame.\n",
      "Try using .loc[row_indexer,col_indexer] = value instead\n",
      "\n",
      "See the caveats in the documentation: https://pandas.pydata.org/pandas-docs/stable/user_guide/indexing.html#returning-a-view-versus-a-copy\n",
      "  numeric_variables_info['75th Percentile'] = df[numeric_variables_info['Variable Name']].quantile(0.75)\n"
     ]
    },
    {
     "name": "stdout",
     "output_type": "stream",
     "text": [
      "\n",
      "Numeric variables information:\n",
      "            Variable Name Data Type  Number of Observations     Range  \\\n",
      "close               close   float64                   98687    82.560   \n",
      "high                 high   float64                   98687    82.680   \n",
      "low                   low   float64                   98687    82.475   \n",
      "trade_count   trade_count   float64                   98687  1225.000   \n",
      "open                 open   float64                   98687    82.715   \n",
      "...                   ...       ...                     ...       ...   \n",
      "MSFT                 MSFT   float64                   88803   158.640   \n",
      "GOOGL               GOOGL   float64                   96061    75.530   \n",
      "META                 META   float64                   86790   265.725   \n",
      "WMT                   WMT   float64                   78672   122.710   \n",
      "BABA                 BABA   float64                   83706    35.585   \n",
      "\n",
      "                 Min       Max        Mean  Standard Deviation     Variance  \\\n",
      "close        118.430   200.990  157.399053           22.204203   493.026643   \n",
      "high         118.480   201.160  157.444401           22.203435   492.992521   \n",
      "low          118.390   200.865  157.353746           22.204723   493.049716   \n",
      "trade_count    1.000  1226.000   22.779150           25.079581   628.985404   \n",
      "open         118.445   201.160  157.399308           22.204252   493.028809   \n",
      "...              ...       ...         ...                 ...          ...   \n",
      "MSFT         309.710   468.350  379.615718           41.258472  1702.261539   \n",
      "GOOGL        115.620   191.150  144.868736           17.036898   290.255895   \n",
      "META         274.680   540.405  393.465748           85.137175  7248.338517   \n",
      "WMT           58.200   180.910  119.459235           48.652642  2367.079592   \n",
      "BABA          66.895   102.480   79.892220            8.101831    65.639660   \n",
      "\n",
      "               Mode   Median  25th Percentile  50th Percentile (Median)  \\\n",
      "close        200.00  153.340          137.090                   153.340   \n",
      "high         200.00  153.370          137.130                   153.370   \n",
      "low          147.00  153.310          137.040                   153.310   \n",
      "trade_count    9.00   16.000           10.000                    16.000   \n",
      "open         200.00  153.340          137.090                   153.340   \n",
      "...             ...      ...              ...                       ...   \n",
      "MSFT         328.11  377.090          335.380                   377.090   \n",
      "GOOGL        137.10  138.725          132.360                   138.725   \n",
      "META         300.00  357.630          312.895                   357.630   \n",
      "WMT           60.47  154.710           61.250                   154.710   \n",
      "BABA          72.42   77.380           73.420                    77.380   \n",
      "\n",
      "             75th Percentile  95th Percentile  \n",
      "close              179.20000        187.94850  \n",
      "high               179.24000        187.98850  \n",
      "low                179.15500        187.91000  \n",
      "trade_count         27.00000         61.00000  \n",
      "open               179.20000        187.94000  \n",
      "...                      ...              ...  \n",
      "MSFT               413.02000        446.27000  \n",
      "GOOGL              154.08500        177.37500  \n",
      "META               484.12375        512.73775  \n",
      "WMT                161.25000        169.09000  \n",
      "BABA                85.65500         95.51500  \n",
      "\n",
      "[218 rows x 15 columns]\n"
     ]
    },
    {
     "name": "stderr",
     "output_type": "stream",
     "text": [
      "/var/folders/jf/1f_l1yn95h3dy9djz69k1bx80000gn/T/ipykernel_39374/826439052.py:7: SettingWithCopyWarning: \n",
      "A value is trying to be set on a copy of a slice from a DataFrame.\n",
      "Try using .loc[row_indexer,col_indexer] = value instead\n",
      "\n",
      "See the caveats in the documentation: https://pandas.pydata.org/pandas-docs/stable/user_guide/indexing.html#returning-a-view-versus-a-copy\n",
      "  numeric_variables_info['95th Percentile'] = df[numeric_variables_info['Variable Name']].quantile(0.95)\n"
     ]
    }
   ],
   "source": [
    "# Calculate mode, median, and quartiles (25%, 50%, 75%, 95%)\n",
    "numeric_variables_info['Mode'] = df[numeric_variables_info['Variable Name']].mode().iloc[0]\n",
    "numeric_variables_info['Median'] = df[numeric_variables_info['Variable Name']].median()\n",
    "numeric_variables_info['25th Percentile'] = df[numeric_variables_info['Variable Name']].quantile(0.25)\n",
    "numeric_variables_info['50th Percentile (Median)'] = df[numeric_variables_info['Variable Name']].quantile(0.50)\n",
    "numeric_variables_info['75th Percentile'] = df[numeric_variables_info['Variable Name']].quantile(0.75)\n",
    "numeric_variables_info['95th Percentile'] = df[numeric_variables_info['Variable Name']].quantile(0.95)\n",
    "\n",
    "print(\"\\nNumeric variables information:\")\n",
    "print(numeric_variables_info)"
   ]
  },
  {
   "cell_type": "markdown",
   "id": "f32f3b28",
   "metadata": {},
   "source": [
    "### f. Histogram of the variable"
   ]
  },
  {
   "cell_type": "code",
   "execution_count": 10,
   "id": "b81eaf7b",
   "metadata": {},
   "outputs": [
    {
     "data": {
      "image/png": "[encoded data removed]",
      "text/plain": [
       "<Figure size 1200x800 with 5 Axes>"
      ]
     },
     "metadata": {},
     "output_type": "display_data"
    }
   ],
   "source": [
    "import matplotlib.pyplot as plt\n",
    "\n",
    "# Selecting any 5 numeric variables for histograms (adjust as needed)\n",
    "numeric_variables = df.select_dtypes(include='number').columns[:5]\n",
    "\n",
    "# Plotting histograms for selected numeric variables\n",
    "plt.figure(figsize=(12, 8))\n",
    "for i, col in enumerate(numeric_variables):\n",
    "    plt.subplot(3, 2, i + 1)\n",
    "    plt.hist(df[col].dropna(), bins=20, edgecolor='black')\n",
    "    plt.title(f'Histogram of {col}')\n",
    "    plt.xlabel(col)\n",
    "    plt.ylabel('Frequency')\n",
    "    plt.grid(True)\n",
    "\n",
    "plt.tight_layout()\n",
    "plt.show()\n"
   ]
  },
  {
   "cell_type": "markdown",
   "id": "0c9bca21",
   "metadata": {},
   "source": [
    "#### g. Provide your findings based on the above statistics (explain if there is something interesting you found)???"
   ]
  },
  {
   "cell_type": "markdown",
   "id": "8f2897e2",
   "metadata": {},
   "source": [
    "## 3. For Character/categorical variables:"
   ]
  },
  {
   "cell_type": "markdown",
   "id": "571f856a",
   "metadata": {},
   "source": [
    "### a. Frequency table for each variable including the category/value, number of observation(as frequency), percent frequency, cumulative frequency, cumulative percent frequency"
   ]
  },
  {
   "cell_type": "code",
   "execution_count": 11,
   "id": "055b02e5",
   "metadata": {},
   "outputs": [
    {
     "name": "stdout",
     "output_type": "stream",
     "text": [
      "\n",
      "Categorical Variables:\n",
      "['timestamp']\n",
      "\n",
      "Frequency Table for Categorical Variables:\n",
      "      Variable Name                  timestamp  Frequency  Percent Frequency  \\\n",
      "0         timestamp  2023-07-11 13:30:00+00:00          1           0.000982   \n",
      "1               NaN  2023-07-11 13:31:00+00:00          1           0.000982   \n",
      "2               NaN  2023-07-11 13:32:00+00:00          1           0.000982   \n",
      "3               NaN  2023-07-11 13:33:00+00:00          1           0.000982   \n",
      "4               NaN  2023-07-11 13:34:00+00:00          1           0.000982   \n",
      "...             ...                        ...        ...                ...   \n",
      "98501           NaN  2024-07-09 19:56:00+00:00          1           0.000982   \n",
      "98502           NaN  2024-07-09 19:57:00+00:00          1           0.000982   \n",
      "98503           NaN  2024-07-09 19:58:00+00:00          1           0.000982   \n",
      "98504           NaN  2024-07-09 19:59:00+00:00          1           0.000982   \n",
      "98505           NaN  2024-07-10 12:31:00+00:00          1           0.000982   \n",
      "\n",
      "       Cumulative Frequency  Cumulative Percent Frequency  \n",
      "0                     29291                     28.753031  \n",
      "1                     86473                     84.884805  \n",
      "2                     69558                     68.280472  \n",
      "3                     69557                     68.279491  \n",
      "4                     69556                     68.278509  \n",
      "...                     ...                           ...  \n",
      "98501                 37322                     36.636531  \n",
      "98502                 37321                     36.635549  \n",
      "98503                 37320                     36.634567  \n",
      "98504                 37319                     36.633586  \n",
      "98505                101871                    100.000000  \n",
      "\n",
      "[98506 rows x 6 columns]\n"
     ]
    }
   ],
   "source": [
    "# Get categorical variables\n",
    "categorical_variables = df.select_dtypes(include=['object']).columns.tolist()\n",
    "\n",
    "print(\"\\nCategorical Variables:\")\n",
    "print(categorical_variables)\n",
    "# Selecting only character/categorical variables\n",
    "categorical_variables = df.select_dtypes(include='object').columns\n",
    "\n",
    "# Creating an empty DataFrame to store frequency table\n",
    "frequency_table = pd.DataFrame()\n",
    "\n",
    "# Generate frequency table for each categorical variable\n",
    "for col in categorical_variables:\n",
    "    freq_table = df[col].value_counts().reset_index()\n",
    "    freq_table.columns = [col, 'Frequency']\n",
    "    freq_table['Percent Frequency'] = freq_table['Frequency'] / len(df) * 100\n",
    "    freq_table['Cumulative Frequency'] = freq_table['Frequency'].cumsum()\n",
    "    freq_table['Cumulative Percent Frequency'] = freq_table['Percent Frequency'].cumsum()\n",
    "    freq_table = freq_table.sort_values(by=col).reset_index(drop=True)\n",
    "    frequency_table = pd.concat([frequency_table, freq_table], axis=1)\n",
    "\n",
    "# Displaying the frequency table with variable names\n",
    "variable_names = pd.DataFrame({'Variable Name': categorical_variables})\n",
    "frequency_table = pd.concat([variable_names, frequency_table], axis=1)\n",
    "\n",
    "print(\"\\nFrequency Table for Categorical Variables:\")\n",
    "print(frequency_table)"
   ]
  },
  {
   "cell_type": "markdown",
   "id": "c1ba8df9",
   "metadata": {},
   "source": [
    "### b. Mode (highest freq) and lowest frequency for each variable"
   ]
  },
  {
   "cell_type": "code",
   "execution_count": 12,
   "id": "04a3730f",
   "metadata": {},
   "outputs": [
    {
     "name": "stdout",
     "output_type": "stream",
     "text": [
      "\n",
      "Mode (Highest Frequency) and Lowest Frequency for Categorical Variables:\n",
      "  Variable Name   Mode (Highest Frequency)  Lowest Frequency\n",
      "0     timestamp  2023-10-09 16:23:00+00:00                 1\n"
     ]
    }
   ],
   "source": [
    "# Creating empty lists to store results\n",
    "modes = []\n",
    "lowest_frequencies = []\n",
    "\n",
    "# Calculate mode (highest frequency) and lowest frequency for each categorical variable\n",
    "for col in categorical_variables:\n",
    "    value_counts = df[col].value_counts()\n",
    "    mode_value = value_counts.idxmax()  # mode (highest frequency value)\n",
    "    lowest_frequency = value_counts.min()  # lowest frequency\n",
    "    \n",
    "    modes.append(mode_value)\n",
    "    lowest_frequencies.append(lowest_frequency)\n",
    "\n",
    "# Creating a summary DataFrame\n",
    "mode_lowest_freq_summary = pd.DataFrame({\n",
    "    'Variable Name': categorical_variables,\n",
    "    'Mode (Highest Frequency)': modes,\n",
    "    'Lowest Frequency': lowest_frequencies\n",
    "})\n",
    "\n",
    "# Displaying the summary\n",
    "print(\"\\nMode (Highest Frequency) and Lowest Frequency for Categorical Variables:\")\n",
    "print(mode_lowest_freq_summary)\n",
    "\n",
    "\n"
   ]
  },
  {
   "cell_type": "markdown",
   "id": "940ffd33",
   "metadata": {},
   "source": [
    "### c. Bar charts of each variable "
   ]
  },
  {
   "cell_type": "code",
   "execution_count": 13,
   "id": "17d9f2b4",
   "metadata": {},
   "outputs": [
    {
     "data": {
      "image/png": "[encoded data removed]",
      "text/plain": [
       "<Figure size 1000x600 with 1 Axes>"
      ]
     },
     "metadata": {},
     "output_type": "display_data"
    }
   ],
   "source": [
    "\n",
    "df_sample = df.sample(frac=0.10, random_state=42)  # Adjust the fraction as needed (0.1 for 10% sample)\n",
    "#visualization for 'timestamp' variable from the sampled data\n",
    "var = 'timestamp'\n",
    "freq_table = df_sample[var].value_counts().reset_index()\n",
    "freq_table.columns = ['Category', 'Frequency']\n",
    "\n",
    "\n",
    "# Bar chart\n",
    "plt.figure(figsize=(10, 6))\n",
    "plt.bar(freq_table['Category'], freq_table['Frequency'], color='skyblue')\n",
    "plt.xlabel(var)\n",
    "plt.ylabel('Frequency')\n",
    "plt.title(f'Bar Chart of {var} (Sampled Data)')\n",
    "plt.xticks(rotation=90)\n",
    "plt.tight_layout()\n",
    "plt.show()"
   ]
  },
  {
   "cell_type": "markdown",
   "id": "32920903",
   "metadata": {},
   "source": [
    "### d. findings based on the results above "
   ]
  },
  {
   "cell_type": "markdown",
   "id": "f224a560",
   "metadata": {},
   "source": [
    "## B. Data Cleaning"
   ]
  },
  {
   "cell_type": "markdown",
   "id": "e85c0180",
   "metadata": {},
   "source": [
    "## 1. Detect and handle outliers\n",
    "Typically, outliers are defined as values that are outside 1.5 times the interquartile range (IQR) below the first quartile or above the third quartile.\n",
    "Replace outliers with the median or mean of the variable, or remove them if they represent data errors."
   ]
  },
  {
   "cell_type": "code",
   "execution_count": 14,
   "id": "faddc962",
   "metadata": {},
   "outputs": [
    {
     "name": "stdout",
     "output_type": "stream",
     "text": [
      "Outliers handled.\n"
     ]
    }
   ],
   "source": [
    "import numpy as np\n",
    " \n",
    "# Function to handle outliers using the IQR method\n",
    "def handle_outliers(series):\n",
    "    Q1 = series.quantile(0.25)\n",
    "    Q3 = series.quantile(0.75)\n",
    "    IQR = Q3 - Q1\n",
    "    lower_bound = Q1 - 1.5 * IQR\n",
    "    upper_bound = Q3 + 1.5 * IQR\n",
    "    series = series.mask((series < lower_bound) | (series > upper_bound), series.median())\n",
    "    return series\n",
    "\n",
    "# Apply function to numeric columns with outliers\n",
    "numeric_columns = df.select_dtypes(include=np.number).columns\n",
    "df[numeric_columns] = df[numeric_columns].apply(handle_outliers)\n",
    "\n",
    "print(\"Outliers handled.\")\n"
   ]
  },
  {
   "cell_type": "markdown",
   "id": "96ad264f",
   "metadata": {},
   "source": [
    "### 2. Detect and Handle Noise\n",
    "\n",
    "using a simple smoothing technique like a rolling mean\n"
   ]
  },
  {
   "cell_type": "code",
   "execution_count": 15,
   "id": "e72f8611",
   "metadata": {},
   "outputs": [
    {
     "name": "stdout",
     "output_type": "stream",
     "text": [
      "Noise handled.\n"
     ]
    }
   ],
   "source": [
    "# Using a rolling mean to smooth data (example with window size of 3)\n",
    "df[numeric_columns] = df[numeric_columns].rolling(window=3).mean()\n",
    "\n",
    "print(\"Noise handled.\")\n"
   ]
  },
  {
   "cell_type": "markdown",
   "id": "07c21d63",
   "metadata": {},
   "source": [
    "### 3. Handle/Treat Missing Values\n",
    "\n",
    "Missing values above a certain threshold (e.g., 5%) may require imputation.\n",
    "Impute missing values with mean, median, mode, or using advanced imputation methods based on data characteristics."
   ]
  },
  {
   "cell_type": "code",
   "execution_count": 16,
   "id": "61b8ea11",
   "metadata": {},
   "outputs": [
    {
     "name": "stdout",
     "output_type": "stream",
     "text": [
      "                  Missing Values  Percentage\n",
      "TD_SEQ_DN                 101871  100.000000\n",
      "TD_SEQ_UP                 101871  100.000000\n",
      "PSARs_0.02_0.2             63449   62.283672\n",
      "PSARl_0.02_0.2             61292   60.166289\n",
      "QQEs_14_5_4.236            60747   59.631298\n",
      "...                          ...         ...\n",
      "close                       7818    7.674412\n",
      "STC_10_12_26_0.5            7818    7.674412\n",
      "SQZPRO_NO                   7818    7.674412\n",
      "SQZPRO_OFF                  7818    7.674412\n",
      "AAPL                        4888    4.798225\n",
      "\n",
      "[218 rows x 2 columns]\n",
      "Missing values handled.\n"
     ]
    }
   ],
   "source": [
    "# Check for missing values\n",
    "missing_values = df.isnull().sum().sort_values(ascending=False)\n",
    "missing_percentage = (missing_values / len(df)) * 100\n",
    "missing_data = pd.DataFrame({'Missing Values': missing_values, 'Percentage': missing_percentage})\n",
    "print(missing_data[missing_data['Missing Values'] > 0])\n",
    "\n",
    "# Filter out columns with excessive missing values\n",
    "threshold = 0.75  # Adjust this threshold as needed\n",
    "df = df.loc[:, df.isnull().mean() < threshold]\n",
    "\n",
    "# Ensure numeric columns are still correctly identified after filtering\n",
    "numeric_columns = df.select_dtypes(include=np.number).columns\n",
    "\n",
    "# Impute missing values with the mean for numeric columns\n",
    "df[numeric_columns] = df[numeric_columns].fillna(df[numeric_columns].mean())\n",
    "\n",
    "print(\"Missing values handled.\")\n",
    "\n"
   ]
  },
  {
   "cell_type": "markdown",
   "id": "f94248e2",
   "metadata": {},
   "source": [
    "### 4. Handle duplicate values in your data\n",
    "Remove duplicate rows.\n",
    "\n"
   ]
  },
  {
   "cell_type": "code",
   "execution_count": 17,
   "id": "c9bf4f3b",
   "metadata": {},
   "outputs": [
    {
     "name": "stdout",
     "output_type": "stream",
     "text": [
      "Duplicate values handled.\n"
     ]
    }
   ],
   "source": [
    "# Remove duplicate rows\n",
    "df.drop_duplicates(inplace=True)\n",
    "\n",
    "print(\"Duplicate values handled.\")\n"
   ]
  },
  {
   "cell_type": "markdown",
   "id": "645f79d4",
   "metadata": {},
   "source": [
    "### 5. Identify any inconsistencies or integrity violations in the data"
   ]
  },
  {
   "cell_type": "code",
   "execution_count": null,
   "id": "2dfd3517",
   "metadata": {},
   "outputs": [],
   "source": []
  },
  {
   "cell_type": "markdown",
   "id": "a6d50af3",
   "metadata": {},
   "source": [
    "### 6. Identify and handle highly correlated variables by performing correlation tests on all the numeric variables"
   ]
  },
  {
   "cell_type": "code",
   "execution_count": 18,
   "id": "c2c4b149",
   "metadata": {},
   "outputs": [
    {
     "name": "stdout",
     "output_type": "stream",
     "text": [
      "Highly correlated variables handled.\n"
     ]
    }
   ],
   "source": [
    "import numpy as np\n",
    "# Calculate correlation matrix for numeric columns only\n",
    "numeric_columns = df.select_dtypes(include=np.number).columns\n",
    "correlation_matrix = df[numeric_columns].corr().abs()\n",
    "\n",
    "# Select upper triangle of correlation matrix\n",
    "upper_triangle = correlation_matrix.where(np.triu(np.ones(correlation_matrix.shape), k=1).astype(bool))\n",
    "\n",
    "# Find index of feature columns with correlation greater than 0.7\n",
    "to_drop = [column for column in upper_triangle.columns if any(upper_triangle[column] > 0.7)]\n",
    "\n",
    "# Drop highly correlated columns\n",
    "df.drop(columns=to_drop, inplace=True)\n",
    "\n",
    "print(\"Highly correlated variables handled.\")\n"
   ]
  },
  {
   "cell_type": "code",
   "execution_count": 19,
   "id": "4ad419cf",
   "metadata": {},
   "outputs": [
    {
     "name": "stdout",
     "output_type": "stream",
     "text": [
      "Cleaned data saved to /Users/christinadarsi/Downloads/cleaned_AMZN_minute_data.csv\n"
     ]
    }
   ],
   "source": [
    "# Save the cleaned dataframe to a new CSV file\n",
    "cleaned_file_path = '/Users/christinadarsi/Downloads/cleaned_AMZN_minute_data.csv'\n",
    "df.to_csv(cleaned_file_path, index=False)\n",
    "\n",
    "print(f\"Cleaned data saved to {cleaned_file_path}\")\n"
   ]
  },
  {
   "cell_type": "markdown",
   "id": "6f0d0faf",
   "metadata": {},
   "source": [
    "## C. Data Visualization"
   ]
  },
  {
   "cell_type": "code",
   "execution_count": null,
   "id": "0b62216e",
   "metadata": {
    "scrolled": false
   },
   "outputs": [],
   "source": [
    "import matplotlib.pyplot as plt\n",
    "import seaborn as sns\n",
    "# Load the cleaned dataset\n",
    "df = pd.read_csv('/Users/christinadarsi/Downloads/cleaned_AMZN_minute_data.csv')\n",
    "\n",
    "# Set the style of seaborn plots\n",
    "sns.set(style=\"whitegrid\")\n",
    "df_sample = df.sample(n=1000)  # Sample 1000 rows from df\n",
    "\n",
    "plt.figure(figsize=(12, 6))\n",
    "plt.plot(df['timestamp'], df_sample['close'], label='AMZN Close Price')\n",
    "plt.xlabel('Date')\n",
    "plt.ylabel('Close Price ($)')\n",
    "plt.title('Time Series Plot of Amazon (AMZN) Close Price')\n",
    "plt.xticks(rotation=45)\n",
    "plt.legend()\n",
    "plt.tight_layout()\n",
    "plt.show()\n"
   ]
  },
  {
   "cell_type": "code",
   "execution_count": null,
   "id": "cf4b8eaf",
   "metadata": {},
   "outputs": [],
   "source": [
    "# Select numeric variables for correlation analysis\n",
    "numeric_variables = ['close', 'trade_count', 'Revenue', 'Net_Income', 'Gross_Profit', 'Total_Debt', 'Operating_Cash_Flow']\n",
    "\n",
    "correlation_matrix = df[numeric_variables].corr()\n",
    "plt.figure(figsize=(10, 8))\n",
    "sns.heatmap(correlation_matrix, annot=True, cmap='coolwarm', vmin=-1, vmax=1)\n",
    "plt.title('Correlation Heatmap of Selected Financial Indicators')\n",
    "plt.tight_layout()\n",
    "plt.show()\n"
   ]
  },
  {
   "cell_type": "code",
   "execution_count": null,
   "id": "690b37b1",
   "metadata": {},
   "outputs": [],
   "source": [
    "# Histograms\n",
    "plt.figure(figsize=(12, 8))\n",
    "for i, var in enumerate(['Revenue', 'Net_Income', 'Gross_Profit', 'Total_Debt', 'Operating_Cash_Flow'], 1):\n",
    "    plt.subplot(2, 3, i)\n",
    "    sns.histplot(df[var], kde=True)\n",
    "    plt.title(f'Histogram of {var}')\n",
    "plt.tight_layout()\n",
    "plt.show()\n",
    "\n",
    "# Boxplots\n",
    "plt.figure(figsize=(12, 8))\n",
    "for i, var in enumerate(['Revenue', 'Net_Income', 'Gross_Profit', 'Total_Debt', 'Operating_Cash_Flow'], 1):\n",
    "    plt.subplot(2, 3, i)\n",
    "    sns.boxplot(y=df[var])\n",
    "    plt.title(f'Boxplot of {var}')\n",
    "plt.tight_layout()\n",
    "plt.show()\n"
   ]
  },
  {
   "cell_type": "code",
   "execution_count": null,
   "id": "0f7f4c28",
   "metadata": {},
   "outputs": [],
   "source": [
    "# Scatterplot Matrix\n",
    "sns.pairplot(df[['Revenue', 'Net_Income', 'Gross_Profit', 'Total_Debt', 'Operating_Cash_Flow']])\n",
    "plt.suptitle('Scatterplot Matrix of Financial Metrics', y=1.02)\n",
    "plt.tight_layout()\n",
    "plt.show()\n"
   ]
  },
  {
   "cell_type": "code",
   "execution_count": null,
   "id": "24d069af",
   "metadata": {},
   "outputs": [],
   "source": []
  }
 ],
 "metadata": {
  "kernelspec": {
   "display_name": "Python 3 (ipykernel)",
   "language": "python",
   "name": "python3"
  },
  "language_info": {
   "codemirror_mode": {
    "name": "ipython",
    "version": 3
   },
   "file_extension": ".py",
   "mimetype": "text/x-python",
   "name": "python",
   "nbconvert_exporter": "python",
   "pygments_lexer": "ipython3",
   "version": "3.11.5"
  }
 },
 "nbformat": 4,
 "nbformat_minor": 5
}
